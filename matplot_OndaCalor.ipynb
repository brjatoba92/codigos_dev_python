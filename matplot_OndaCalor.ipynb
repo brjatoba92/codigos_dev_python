{
 "cells": [
  {
   "cell_type": "markdown",
   "id": "b946d0e1",
   "metadata": {},
   "source": [
    "# Sistema de Análise de Ondas de Calor em Python\n",
    "Desenvolva um sistema que identifica e analisa ondas de calor usando dados históricos de temperatura. O código deve:\n",
    "- Detectar períodos onde a temperatura máxima excede o percentil 90 por 3+ dias consecutivos\n",
    "- Calcular intensidade, duração e frequência das ondas de calor\n",
    "- Gerar mapas de calor temporal, gráficos de tendências decadais e relatórios de impacto climático\n",
    "- Implementar algoritmos de detecção baseados em índices como HWMId (Heat Wave Magnitude Index daily)"
   ]
  },
  {
   "cell_type": "markdown",
   "id": "6a9231dd",
   "metadata": {},
   "source": [
    "## Importação das bibliotecas"
   ]
  },
  {
   "cell_type": "code",
   "execution_count": 2,
   "id": "4fa2cc4f",
   "metadata": {},
   "outputs": [],
   "source": [
    "import numpy as np\n",
    "import pandas as pd\n",
    "import matplotlib.pyplot as plt\n",
    "import seaborn as sns\n",
    "from scipy import stats\n",
    "import calendar\n",
    "from datetime import datetime, timedelta\n"
   ]
  },
  {
   "cell_type": "markdown",
   "id": "fed83154",
   "metadata": {},
   "source": [
    "## Configurações iniciais"
   ]
  },
  {
   "cell_type": "code",
   "execution_count": 3,
   "id": "4f094a5e",
   "metadata": {},
   "outputs": [],
   "source": [
    "plt.style.use('ggplot')\n",
    "sns.set_palette(\"YlOrRd\")"
   ]
  },
  {
   "cell_type": "markdown",
   "id": "8e8883d3",
   "metadata": {},
   "source": [
    "## Desenvolvimento da classe"
   ]
  },
  {
   "cell_type": "code",
   "execution_count": 4,
   "id": "6696f1f3",
   "metadata": {},
   "outputs": [],
   "source": [
    "class HeatWaveAnalyzer:\n",
    "    def __init__(self, temp_data, threshold_percentile=90, min_consecutive_days=3):\n",
    "        \"\"\"\n",
    "        Inicializa o analisador de ondas de calor.\n",
    "        \n",
    "        Args:\n",
    "            temp_data (DataFrame): Dados de temperatura com colunas 'date' e 'temp_max'\n",
    "            threshold_percentile (int): Percentil para definir o limiar de onda de calor (padrão: 90)\n",
    "            min_consecutive_days (int): Mínimo de dias consecutivos para considerar onda de calor (padrão: 3)\n",
    "        \"\"\"\n",
    "        self.data = temp_data.copy()\n",
    "        self.threshold_percentile = threshold_percentile\n",
    "        self.min_consecutive_days = min_consecutive_days\n",
    "        self.heat_waves = None\n",
    "        self.climate_report = None\n",
    "\n",
    "        # Pré-processamento\n",
    "        self._preprocess_data()\n",
    "    \n",
    "    def _preprocess_data(self):\n",
    "        \"\"\"Prepara os dados para analise.\"\"\"\n",
    "        # Garante que a data está no formato correto\n",
    "        self.data['date'] = pd.to_datetime(self.data['date'])\n",
    "        self.data = self.data.sort_values('date').reset_index(drop=True)\n",
    "\n",
    "        # Adiciona colunas auxiliares\n",
    "        self.data['year'] = self.data['date'].dt.year\n",
    "        self.data['month'] = self.data['date'].dt.month\n",
    "        self.data['day'] = self.data['date'].dt.day\n",
    "        self.data['day_of_year'] = self.data['date'].dt.dayofyear\n",
    "\n",
    "        # Calcula o limiar de temperatura para cada dia do ano (percentil movel)\n",
    "        self._calculate_thresholds()"
   ]
  }
 ],
 "metadata": {
  "kernelspec": {
   "display_name": ".venv",
   "language": "python",
   "name": "python3"
  },
  "language_info": {
   "codemirror_mode": {
    "name": "ipython",
    "version": 3
   },
   "file_extension": ".py",
   "mimetype": "text/x-python",
   "name": "python",
   "nbconvert_exporter": "python",
   "pygments_lexer": "ipython3",
   "version": "3.10.12"
  }
 },
 "nbformat": 4,
 "nbformat_minor": 5
}
