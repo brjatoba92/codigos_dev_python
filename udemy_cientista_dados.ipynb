{
 "cells": [
  {
   "cell_type": "markdown",
   "id": "7cab8a9f",
   "metadata": {},
   "source": [
    "# Variavel\n",
    "- Espaço na memoria\n",
    "- Tipo: str, int, float, lógico\n",
    "- Declaração é fracamente tipada\n",
    "\n"
   ]
  },
  {
   "cell_type": "code",
   "execution_count": 5,
   "id": "d7aab223",
   "metadata": {},
   "outputs": [
    {
     "data": {
      "text/plain": [
       "float"
      ]
     },
     "execution_count": 5,
     "metadata": {},
     "output_type": "execute_result"
    }
   ],
   "source": [
    "x = 1\n",
    "y = \"Python\"\n",
    "z =  3.14\n",
    "w = False\n",
    "a = True\n",
    "\n",
    "type(z)"
   ]
  },
  {
   "cell_type": "markdown",
   "id": "13950498",
   "metadata": {},
   "source": [
    "# Comentarios\n",
    "\n",
    "- Jogo da velha para uma unica linha\n",
    "- Aspas triplas para uma grande porção de comentarios"
   ]
  },
  {
   "cell_type": "markdown",
   "id": "8dbd172d",
   "metadata": {},
   "source": [
    "# Estruturas de decisão"
   ]
  },
  {
   "cell_type": "markdown",
   "id": "9c67704c",
   "metadata": {},
   "source": [
    "## If/else\n",
    "\n",
    "- Operadores matematicos \n",
    "- Operadores logicos: and, or, not"
   ]
  },
  {
   "cell_type": "code",
   "execution_count": 12,
   "id": "738ceb0e",
   "metadata": {},
   "outputs": [
    {
     "name": "stdout",
     "output_type": "stream",
     "text": [
      "Recuperação\n"
     ]
    }
   ],
   "source": [
    "nota = 6\n",
    "\n",
    "if nota >= 7:\n",
    "    print(\"Aprovado\")\n",
    "elif nota >= 6 :\n",
    "    print(\"Recuperação\")\n",
    "else:\n",
    "    print(\"Reprovado\")"
   ]
  },
  {
   "cell_type": "markdown",
   "id": "7da5483a",
   "metadata": {},
   "source": [
    "# Estruturas de repetição"
   ]
  },
  {
   "cell_type": "markdown",
   "id": "83ff32b1",
   "metadata": {},
   "source": [
    "## 1. While\n",
    "- Executa enquanto a variavel satisfazer a condição"
   ]
  },
  {
   "cell_type": "code",
   "execution_count": 13,
   "id": "7d67ea34",
   "metadata": {},
   "outputs": [
    {
     "name": "stdout",
     "output_type": "stream",
     "text": [
      "1\n",
      "2\n",
      "3\n",
      "4\n",
      "5\n",
      "6\n",
      "7\n",
      "8\n",
      "9\n",
      "10\n"
     ]
    }
   ],
   "source": [
    "count = 1\n",
    "while count <= 10:\n",
    "    print(count)\n",
    "    count += 1"
   ]
  },
  {
   "cell_type": "markdown",
   "id": "015cef93",
   "metadata": {},
   "source": [
    "## 2. For"
   ]
  },
  {
   "cell_type": "code",
   "execution_count": 14,
   "id": "ab750da6",
   "metadata": {},
   "outputs": [
    {
     "name": "stdout",
     "output_type": "stream",
     "text": [
      "0\n",
      "1\n",
      "2\n",
      "3\n",
      "4\n",
      "5\n"
     ]
    }
   ],
   "source": [
    "for n in range(0,10):\n",
    "    print(n)\n",
    "    if n == 5:\n",
    "        break"
   ]
  }
 ],
 "metadata": {
  "kernelspec": {
   "display_name": ".venv",
   "language": "python",
   "name": "python3"
  },
  "language_info": {
   "codemirror_mode": {
    "name": "ipython",
    "version": 3
   },
   "file_extension": ".py",
   "mimetype": "text/x-python",
   "name": "python",
   "nbconvert_exporter": "python",
   "pygments_lexer": "ipython3",
   "version": "3.10.12"
  }
 },
 "nbformat": 4,
 "nbformat_minor": 5
}
