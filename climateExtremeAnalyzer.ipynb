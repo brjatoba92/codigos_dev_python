{
 "cells": [
  {
   "cell_type": "markdown",
   "id": "571e489d",
   "metadata": {},
   "source": [
    "## 5. Analisador de Extremos Climáticos e Mudanças Climáticas\n",
    "Crie um sistema robusto para análise de eventos extremos:\n",
    "\n",
    "- Implemente análise de valores extremos usando distribuições GEV (Generalized Extreme Value)\n",
    "- Calcule períodos de retorno para eventos como chuvas intensas, temperaturas extremas\n",
    "- Analise tendências climáticas usando testes de Mann-Kendall e regressão Sen's slope\n",
    "- Gere projeções de cenários futuros, mapas de risco e relatórios de adaptação climática"
   ]
  },
  {
   "cell_type": "markdown",
   "id": "f261ebfa",
   "metadata": {},
   "source": [
    "## Dependencias"
   ]
  },
  {
   "cell_type": "code",
   "execution_count": 4,
   "id": "25838650",
   "metadata": {},
   "outputs": [],
   "source": [
    "import numpy as np\n",
    "import pandas as pd\n",
    "import matplotlib.pyplot as plt\n",
    "import seaborn as sns\n",
    "from scipy import stats\n",
    "from scipy.stats import genextreme, norm\n",
    "import warnings\n",
    "warnings.filterwarnings('ignore')"
   ]
  },
  {
   "cell_type": "markdown",
   "id": "840be145",
   "metadata": {},
   "source": [
    "## Mann Kendel - Biblioteca para analise climatica"
   ]
  },
  {
   "cell_type": "code",
   "execution_count": 5,
   "id": "ee426b76",
   "metadata": {},
   "outputs": [
    {
     "name": "stdout",
     "output_type": "stream",
     "text": [
      "Instalando pymannkendall: pip install pymannkendall\n"
     ]
    }
   ],
   "source": [
    "try:\n",
    "    from pymannkendall import original_test as mk_test\n",
    "except:\n",
    "    print(\"Instalando pymannkendall: pip install pymannkendall\")\n",
    "    # Implementação manual do teste Mann-Kendall\n",
    "    def mk_test(data):\n",
    "        n= len(data)\n",
    "        s = 0\n",
    "        for i in range(n-1):\n",
    "            for j in range(i+1, n):\n",
    "                if data[j]> data[i]:\n",
    "                    s += 1\n",
    "                elif data[j]< data[i]:\n",
    "                    s -= 1\n",
    "        \n",
    "        var_s = n*(n-1)*(2*n+5)/18\n",
    "        if s> 0:\n",
    "            z = (s-1)/np.sqrt(var_s)\n",
    "        elif s< 0:\n",
    "            z = (s+1)/np.sqrt(var_s)\n",
    "        else:\n",
    "            z = 0\n",
    "        p_value = 2*(1-stats.norm.cdf(abs(z)))\n",
    "        trend = 'increasing' if z > 0 else 'decreasing' if z < 0 else 'no trend'\n",
    "\n",
    "        class MKResult:\n",
    "            def __init__(self, trend, p, z, s):\n",
    "                self.trend = trend\n",
    "                self.p = p\n",
    "                self.z = z\n",
    "                self.s = s\n",
    "        return MKResult(trend, p_value, z, s)\n"
   ]
  },
  {
   "cell_type": "markdown",
   "id": "a387ae1b",
   "metadata": {},
   "source": [
    "## Classe Analisador de Eventos Climáticos"
   ]
  },
  {
   "cell_type": "code",
   "execution_count": null,
   "id": "4d32dffe",
   "metadata": {},
   "outputs": [],
   "source": [
    "class ClimateExtremesAnalyzer:\n",
    "    \"\"\"\n",
    "    Classe para analisar os dados de clima extremos.\n",
    "    \"\"\"\n",
    "    def __init__(self):\n",
    "        self.data = None\n",
    "        self.extreme_data = None\n",
    "        self.gev_params = {}\n",
    "        self.trends = {}\n",
    "    \n",
    "    def load_data(self, data_path=None, data_df=None):\n",
    "        \"\"\"\n",
    "        Carrega dados climáticos\n",
    "        \"\"\"\n",
    "        if data_df is not None:\n",
    "            self.data = data_df\n",
    "        elif data_path:\n",
    "            # carregar de arquivo\n",
    "            if data_path.endswith('.csv'):\n",
    "                self.data = pd.read_csv(data_path, parse_dates=['date'])\n",
    "            else:\n",
    "                raise ValueError(\"Formato de arquivo não suportado\")\n",
    "        else:\n",
    "            # Gerar dados sinteticos para demonstração\n",
    "            self.generate_synthetic_data()\n",
    "        \n",
    "        print(f\"Dados carregados: {len(self.data)} registros\")\n",
    "        return self.data\n",
    "    \n",
    "    def generate_synthetic_data(self):\n",
    "        \"\"\"\n",
    "        Gera dados climáticos sintéticos para demonstração\n",
    "        \"\"\"\n",
    "        np.random.seed(42)\n",
    "\n",
    "        # Gerar 30 anos de dados diarios\n",
    "        dates = pd.date_range('1985-01-01', '2024-12-31', freq='D')\n",
    "        n_days = len(dates)\n",
    "\n",
    "        # Tendencia de aquecimento\n",
    "        trend = np.linspace(0, 2, n_days) # aumento de 2°C em 30 anos\n",
    "\n",
    "        # Sazonalidade\n",
    "        day_of_year = dates.dayofyear\n",
    "        seasonal = 10 * np.sin(2*np.pi*day_of_year / 365.25)\n",
    "\n",
    "        # Temperatura base + tendencia + sozonalidade + ruido\n",
    "        temperature = 20 + trend + seasonal + np.random.normal(0,3, n_days)\n",
    "\n",
    "        #Eventos extremos ocasionais\n",
    "        extreme_events = np.random.exponential(0.1, n_days) * np.random.choice([0,1], n_days, p=[0.95, 0.05])\n",
    "        temperature += extreme_events * 15\n",
    "\n",
    "        # Precipitação (distribuição gamma)\n",
    "        precipitation = np.random.gamma(0.5, 2, n_days)\n",
    "        # Eventos extremos de chuva\n",
    "        extreme_rain = np.random.choice([0,1], n_days, p=[0.98, 0.02]) * np.random.exponential(50,n_days)\n",
    "        precipitation += extreme_rain\n",
    "\n",
    "        self.data = pd.DataFrame({\n",
    "            'date': dates,\n",
    "            'temperature': temperature,\n",
    "            'precipitation': precipitation,\n",
    "            'year': dates.year,\n",
    "            'month': dates.month\n",
    "        })\n",
    "\n",
    "        print(\"Dados sintéticos gerados com sucesso!\")\n",
    "\n"
   ]
  }
 ],
 "metadata": {
  "kernelspec": {
   "display_name": ".venv",
   "language": "python",
   "name": "python3"
  },
  "language_info": {
   "codemirror_mode": {
    "name": "ipython",
    "version": 3
   },
   "file_extension": ".py",
   "mimetype": "text/x-python",
   "name": "python",
   "nbconvert_exporter": "python",
   "pygments_lexer": "ipython3",
   "version": "3.10.12"
  }
 },
 "nbformat": 4,
 "nbformat_minor": 5
}
